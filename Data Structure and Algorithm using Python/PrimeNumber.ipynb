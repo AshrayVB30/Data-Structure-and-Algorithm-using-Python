{
 "cells": [
  {
   "cell_type": "code",
   "execution_count": 1,
   "metadata": {},
   "outputs": [
    {
     "name": "stdout",
     "output_type": "stream",
     "text": [
      "Prime numbers are: \n",
      "2 3 5 7 "
     ]
    }
   ],
   "source": [
    "# Generate list of prime numbers using Sieve Eratostenes Algorithm\n",
    "def main():\n",
    "    n = int(input(\"Enter value of n: \"))\n",
    "    Prime = [1] * (n + 1)\n",
    "    \n",
    "    for i in range(2, int(n**0.5) + 1):\n",
    "        if Prime[i] != 0:\n",
    "            for j in range(i * i, n + 1, i):\n",
    "                Prime[j] = 0\n",
    "    \n",
    "    print(\"Prime numbers are: \")\n",
    "    for i in range(2, n + 1):\n",
    "        if Prime[i] != 0:\n",
    "            print(i, end=\" \")\n",
    "\n",
    "if __name__ == \"__main__\":\n",
    "    main()\n"
   ]
  },
  {
   "cell_type": "markdown",
   "metadata": {},
   "source": [
    "Algorithm: Generate list of prime numbers using Sieve Eratostenes Algorithm\n",
    "Step 1: Start\n",
    "Step 2: Start with a list of numbers from 0 to limit, and assume all of them are prime\n",
    "Step 3: Start from 2, the first prime number and mark all its multiples as non-prime\n",
    "Step 4: Move to the next unmarked number(which will be prime)and repeat the process\n",
    "Step 5: Continue this process until you've checked all the numbers up to the square root of the limit.\n",
    "Step 6: The numbers that are still marked as prime at the end are the prime number.\n",
    "Step 7: End"
   ]
  },
  {
   "cell_type": "markdown",
   "metadata": {},
   "source": [
    "Explaination of the above program:\n",
    "Input Handling:\n",
    "\n",
    "Java uses Scanner for input. In Python, we use input() to get input from the user.\n",
    "int(input(\"Enter value of n: \")) converts the input to an integer.\n",
    "Array Initialization:\n",
    "\n",
    "In Java, Arrays.fill(Prime,1) initializes the array. In Python, [1] * (n + 1) creates a list of size n+1 filled with 1s.\n",
    "Looping and Conditionals:\n",
    "\n",
    "The outer loop for (int i = 2; i*i <= n; i++) in Java becomes for i in range(2, int(n**0.5) + 1) in Python.\n",
    "The inner loop for (int j = i*i; j <= n; j += i) in Java is written as for j in range(i * i, n + 1, i) in Python.\n",
    "Printing the Results:\n",
    "\n",
    "In Java, System.out.print(i + \" \") prints each prime number. In Python, print(i, end=\" \") is used to print without a newline after each number."
   ]
  }
 ],
 "metadata": {
  "kernelspec": {
   "display_name": "Python 3",
   "language": "python",
   "name": "python3"
  },
  "language_info": {
   "codemirror_mode": {
    "name": "ipython",
    "version": 3
   },
   "file_extension": ".py",
   "mimetype": "text/x-python",
   "name": "python",
   "nbconvert_exporter": "python",
   "pygments_lexer": "ipython3",
   "version": "3.12.3"
  }
 },
 "nbformat": 4,
 "nbformat_minor": 2
}
