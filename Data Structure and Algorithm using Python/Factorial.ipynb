{
 "cells": [
  {
   "cell_type": "code",
   "execution_count": null,
   "metadata": {},
   "outputs": [],
   "source": [
    "# Factorial of a given number\n",
    "def fact(n):\n",
    "    if n == 0:\n",
    "        return 1\n",
    "    else:\n",
    "        return n * fact(n - 1)\n",
    "\n",
    "def main():\n",
    "    n = int(input(\"Enter the number: \"))\n",
    "    print(\"Factorial is:\", fact(n))\n",
    "\n",
    "if __name__ == \"__main__\":\n",
    "    main()\n"
   ]
  },
  {
   "cell_type": "markdown",
   "metadata": {},
   "source": [
    "Algorithm: fact(n)\n",
    "Input: number(n)\n",
    "Output: Factorial of n\n",
    "  if n == 0\n",
    "    return 1\n",
    "  else\n",
    "    return n * fact(n-1)\n",
    "\n",
    "Time Complexity: T(n) ∈ O(n)\n",
    "  factorial calculation algorithm, it's O(n), where n is the input number. This is because the algorithm iterates through each integer from n down to 1 in a recursive manner, resulting in linear time complexity."
   ]
  }
 ],
 "metadata": {
  "language_info": {
   "name": "python"
  }
 },
 "nbformat": 4,
 "nbformat_minor": 2
}
