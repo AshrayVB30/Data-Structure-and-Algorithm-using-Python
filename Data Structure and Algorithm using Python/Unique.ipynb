{
 "cells": [
  {
   "cell_type": "code",
   "execution_count": null,
   "metadata": {},
   "outputs": [],
   "source": [
    "# Checking element in an array are Unique or not\n",
    "def main():\n",
    "    u = int(input(\"Enter Max size: \"))\n",
    "    arr = []\n",
    "    for _ in range(u):\n",
    "        arr.append(int(input()))\n",
    "\n",
    "    count = True\n",
    "    for i in range(u):\n",
    "        for j in range(u):\n",
    "            if arr[i] == arr[j] and i != j:\n",
    "                count = False\n",
    "                break\n",
    "        if not count:\n",
    "            break\n",
    "\n",
    "    if count:\n",
    "        print(\"Yes\")\n",
    "    else:\n",
    "        print(\"No\")\n",
    "\n",
    "if __name__ == \"__main__\":\n",
    "    main()\n"
   ]
  },
  {
   "cell_type": "markdown",
   "metadata": {},
   "source": [
    "Algorithm: Unique of Array element(A[1, 2, 3,.....n])\n",
    "Input: Array of element(A)\n",
    "Output: Yes/No\n",
    "  for i <- 0 to n -2\n",
    "    for j <- i+1 to n-1\n",
    "      if A[i] == A[j]\n",
    "        return False\n",
    "  return True\n",
    "\n",
    "Time Complexity: T(n) ∈ O(n^2)\n",
    "   The time complexity of this algorithm, it's O(n^2), where n is the size of the array. This is because it uses nested loops to compare each element in the array with every other element, resulting in quadratic time complexity."
   ]
  }
 ],
 "metadata": {
  "language_info": {
   "name": "python"
  }
 },
 "nbformat": 4,
 "nbformat_minor": 2
}
