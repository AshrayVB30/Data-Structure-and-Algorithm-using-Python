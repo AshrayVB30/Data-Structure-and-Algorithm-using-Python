{
 "cells": [
  {
   "cell_type": "code",
   "execution_count": null,
   "metadata": {},
   "outputs": [],
   "source": [
    "# GCD using Euclide's method\n",
    "def gcd(a, b):\n",
    "    if b == 0:\n",
    "        return a\n",
    "    else:\n",
    "        return gcd(b, a % b)\n",
    "\n",
    "def main():\n",
    "    a = int(input(\"Enter first number: \"))\n",
    "    b = int(input(\"Enter second number: \"))\n",
    "    t = gcd(a, b)\n",
    "    print(\"GCD using Euclid's method:\", t)\n",
    "\n",
    "if __name__ == \"__main__\":\n",
    "    main()\n"
   ]
  },
  {
   "cell_type": "markdown",
   "metadata": {},
   "source": [
    "Algorithm in Euclide's method:\n",
    "Step 1:Start\n",
    "Step 2:Take two variables(a, b)\n",
    "Step 3:Check b = 0 or not, if yes\n",
    "        print a is GCD, otherwise goto Step-4\n",
    "Step 4: a / b -> remainder(r)\n",
    "Step 5: a <- b, b <- r, goto Step-2\n",
    "Step 6:End"
   ]
  },
  {
   "cell_type": "code",
   "execution_count": null,
   "metadata": {},
   "outputs": [],
   "source": [
    "# GDD using Consecative method\n",
    "def gcd_c(a, b):\n",
    "    gcd = min(a, b)\n",
    "    while gcd > 1:\n",
    "        if a % gcd == 0 and b % gcd == 0:\n",
    "            break\n",
    "        gcd -= 1\n",
    "    return gcd\n",
    "\n",
    "def main():\n",
    "    num1 = int(input(\"Enter first number: \"))\n",
    "    num2 = int(input(\"Enter second number: \"))\n",
    "    print(\"GCD using Consecutive method:\", gcd_c(num1, num2))\n",
    "\n",
    "if __name__ == \"__main__\":\n",
    "    main()\n"
   ]
  },
  {
   "cell_type": "markdown",
   "metadata": {},
   "source": [
    "Algorithm in Consecative method:\n",
    "Step 1:Start\n",
    "Step 2: m, n\n",
    "Step 3: t <- min(m, n)\n",
    "Step 4: m % t = 0, n % t = 0, return t\n",
    "        otherwise goto Step-5\n",
    "Step 5: t <- t - 1, goto Step-3\n",
    "Step 6:End"
   ]
  }
 ],
 "metadata": {
  "language_info": {
   "name": "python"
  }
 },
 "nbformat": 4,
 "nbformat_minor": 2
}
