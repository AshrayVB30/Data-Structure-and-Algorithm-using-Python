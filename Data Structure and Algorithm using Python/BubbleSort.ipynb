{
 "cells": [
  {
   "cell_type": "code",
   "execution_count": null,
   "metadata": {},
   "outputs": [],
   "source": [
    "# Bubble Sort\n",
    "import random\n",
    "import time\n",
    "\n",
    "def bubble_sort(arr):\n",
    "    n = len(arr)\n",
    "    for i in range(n - 1):\n",
    "        for j in range(n - 1 - i):\n",
    "            if arr[j] > arr[j + 1]:\n",
    "                arr[j], arr[j + 1] = arr[j + 1], arr[j]\n",
    "\n",
    "def main():\n",
    "    print(\"BUBBLE SORT ALGORITHM\")\n",
    "    n = int(input(\"Enter the number of elements: \"))\n",
    "    \n",
    "    a = [random.randint(0, 99) for _ in range(n)]\n",
    "    print(\"Array elements to be sorted:\", *a)\n",
    "    \n",
    "    start_time = time.time_ns()\n",
    "    bubble_sort(a)\n",
    "    end_time = time.time_ns()\n",
    "    \n",
    "    print(\"The sorted elements:\", *a)\n",
    "    print(\"The time complexity:\", (end_time - start_time), \"ns\")\n",
    "\n",
    "if __name__ == \"__main__\":\n",
    "    main()\n",
    "\n"
   ]
  },
  {
   "cell_type": "markdown",
   "metadata": {},
   "source": [
    "Algorithm: BubbleSort(A[0.......n-1])\n",
    "              for i <- 0 to n-2 do:\n",
    "                for j <- 0 to n-2-i:\n",
    "                  if A[j+1] < A[j]\n",
    "                    swap(A[j], A[j+1])\n",
    "\n",
    "Time Complexity: T(n) ∈ O(n^2)"
   ]
  }
 ],
 "metadata": {
  "language_info": {
   "name": "python"
  }
 },
 "nbformat": 4,
 "nbformat_minor": 2
}
