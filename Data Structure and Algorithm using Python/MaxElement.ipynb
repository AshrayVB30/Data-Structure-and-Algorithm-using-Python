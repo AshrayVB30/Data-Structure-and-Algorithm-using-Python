{
 "cells": [
  {
   "cell_type": "code",
   "execution_count": null,
   "metadata": {},
   "outputs": [],
   "source": [
    "# To find the maximum in ana array\n",
    "def main():\n",
    "    n = int(input(\"Enter the value of n: \"))\n",
    "    arr = list(map(int, input().split()))\n",
    "    max_val = arr[0]\n",
    "\n",
    "    for i in range(1, n):\n",
    "        if arr[i] > max_val:\n",
    "            max_val = arr[i]\n",
    "\n",
    "    print(\"Max value is:\", max_val)\n",
    "\n",
    "if __name__ == \"__main__\":\n",
    "    main()\n"
   ]
  },
  {
   "cell_type": "markdown",
   "metadata": {},
   "source": [
    "Alogrithm: Maximum element(A[0, 1, 2, 3,.....n-1])\n",
    "Input: Array of element(A)\n",
    "Output: Largest element\n",
    "  MaxValue <- A[0]\n",
    "  for i <- 1 to n-1 do\n",
    "    if A[i] > MaxValue\n",
    "      MaxValue <- A[i]\n",
    "  return MaxValue \n",
    "\n",
    "Time Complexity: T(n) ∈ O(n)\n",
    "  The time complexity of this algorithm is O(n), where n is the number of elements in the array. This is because the algorithm iterates through the array once to find the maximum value."
   ]
  }
 ],
 "metadata": {
  "language_info": {
   "name": "python"
  }
 },
 "nbformat": 4,
 "nbformat_minor": 2
}
